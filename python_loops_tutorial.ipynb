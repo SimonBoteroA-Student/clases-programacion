{
 "cells": [
  {
   "metadata": {},
   "cell_type": "markdown",
   "source": [
    "# Python Loops Tutorial\n",
    "In this tutorial, we'll learn about the two main types of loops in Python:\n",
    "1. `for` loops\n",
    "2. `while` loops"
   ],
   "id": "2441cd37925c133d"
  },
  {
   "metadata": {},
   "cell_type": "markdown",
   "source": [
    "## For Loops\n",
    "A `for` loop is used to iterate over a sequence (like a list, tuple, or string) or other iterable objects."
   ],
   "id": "b24d0b5749c806f3"
  },
  {
   "metadata": {},
   "cell_type": "code",
   "outputs": [],
   "execution_count": null,
   "source": [
    "# Basic for loop with a list\n",
    "fruits = [\"apple\", \"banana\", \"orange\"]\n",
    "print(\"Iterating through a list:\")\n",
    "for fruit in fruits:\n",
    "    print(fruit)\n",
    "\n",
    "# For loop with range\n",
    "print(\"\\nCounting from 0 to 4:\")\n",
    "for i in range(5):\n",
    "    print(i)"
   ],
   "id": "e508c2348a811410"
  },
  {
   "metadata": {},
   "cell_type": "markdown",
   "source": [
    "## While Loops\n",
    "A `while` loop continues executing a block of code as long as a given condition is"
   ],
   "id": "96696602332992ea"
  },
  {
   "metadata": {},
   "cell_type": "code",
   "outputs": [],
   "execution_count": null,
   "source": [
    "# Basic while loop\n",
    "count = 0\n",
    "print(\"Counting up to 3:\")\n",
    "while count < 4:\n",
    "    print(count)\n",
    "    count += 1"
   ],
   "id": "670f6a96d7b19dc8"
  },
  {
   "metadata": {},
   "cell_type": "markdown",
   "source": [
    "## Loop Control Statements\n",
    "Python provides statements to control loop execution:\n",
    "- `break`: Exits the loop\n",
    "- `continue`: Skips the rest of the current iteration"
   ],
   "id": "eef6187f076a473"
  },
  {
   "metadata": {},
   "cell_type": "code",
   "outputs": [],
   "execution_count": null,
   "source": [
    "# Example of break and continue\n",
    "print(\"Numbers from 0 to 5, skip 3, stop at 5:\")\n",
    "for i in range(7):\n",
    "    if i == 3:\n",
    "        continue  # Skip 3\n",
    "    if i == 6:\n",
    "        break    # Stop at 5\n",
    "    print(i)"
   ],
   "id": "64bed730a821f63e"
  }
 ],
 "metadata": {
  "kernelspec": {
   "display_name": "Python 3",
   "language": "python",
   "name": "python3"
  },
  "language_info": {
   "codemirror_mode": {
    "name": "ipython",
    "version": 2
   },
   "file_extension": ".py",
   "mimetype": "text/x-python",
   "name": "python",
   "nbconvert_exporter": "python",
   "pygments_lexer": "ipython2",
   "version": "2.7.6"
  }
 },
 "nbformat": 4,
 "nbformat_minor": 5
}
